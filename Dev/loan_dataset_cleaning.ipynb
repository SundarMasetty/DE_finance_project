{
 "cells": [
  {
   "cell_type": "code",
   "execution_count": 1,
   "id": "86971491",
   "metadata": {},
   "outputs": [],
   "source": [
    "from pyspark.sql import SparkSession\n",
    "\n",
    "spark = SparkSession \\\n",
    "    .builder \\\n",
    "    .appName(\"LendingClubProject_DC_loans\") \\\n",
    "    .master(\"local[*]\") \\\n",
    "    .getOrCreate()"
   ]
  },
  {
   "cell_type": "code",
   "execution_count": 4,
   "id": "d013ec40",
   "metadata": {},
   "outputs": [
    {
     "name": "stdout",
     "output_type": "stream",
     "text": [
      "+--------+--------------------+---------+-----------+---------+--------+-----------+--------+-----------+------------------+------------------+\n",
      "| loan_id|           member_id|loan_amnt|funded_amnt|     term|int_rate|installment| issue_d|loan_status|           purpose|             title|\n",
      "+--------+--------------------+---------+-----------+---------+--------+-----------+--------+-----------+------------------+------------------+\n",
      "|68407277|6d5091b3fcaaeb4ea...|   3600.0|     3600.0|36 months|   13.99|     123.03|Dec-2015| Fully Paid|debt_consolidation|Debt consolidation|\n",
      "|68355089|b5e7938b0a2da4cea...|  24700.0|    24700.0|36 months|   11.99|     820.28|Dec-2015| Fully Paid|    small_business|          Business|\n",
      "+--------+--------------------+---------+-----------+---------+--------+-----------+--------+-----------+------------------+------------------+\n",
      "only showing top 2 rows\n",
      "\n"
     ]
    }
   ],
   "source": [
    "\n",
    "loan_raw_df = spark.read.format(\"csv\").option(\"header\",\"true\").option(\"inferSchema\",\"true\").load(\"Lending_club_project/raw/loans_data_csv\")\n",
    "loan_raw_df.show(2)"
   ]
  },
  {
   "cell_type": "code",
   "execution_count": 7,
   "id": "fa8c8df4",
   "metadata": {},
   "outputs": [
    {
     "data": {
      "text/plain": [
       "<bound method DataFrame.printSchema of DataFrame[loan_id: string, member_id: string, loan_amnt: double, funded_amnt: double, term: string, int_rate: double, installment: double, issue_d: string, loan_status: string, purpose: string, title: string]>"
      ]
     },
     "execution_count": 7,
     "metadata": {},
     "output_type": "execute_result"
    }
   ],
   "source": [
    "loan_raw_df.printSchema"
   ]
  },
  {
   "cell_type": "code",
   "execution_count": 8,
   "id": "b230640f",
   "metadata": {},
   "outputs": [],
   "source": [
    "from pyspark.sql.types import StructType, StructField, StringType, FloatType\n",
    "\n",
    "loan_schema = StructType([\n",
    "    StructField(\"loan_id\", StringType(), True),\n",
    "    StructField(\"member_id\", StringType(), True),\n",
    "    StructField(\"loan_amnt\", FloatType(), True),\n",
    "    StructField(\"funded_amnt\", FloatType(), True),\n",
    "    StructField(\"loan_term_months\", StringType(), True),\n",
    "    StructField(\"interest_rate\", FloatType(), True),\n",
    "    StructField(\"monthly_installment\", FloatType(), True),\n",
    "    StructField(\"issue_date\", StringType(), True),\n",
    "    StructField(\"loan_status\", StringType(), True),\n",
    "    StructField(\"loan_purpose\", StringType(), True),\n",
    "    StructField(\"loan_title\", StringType(), True)\n",
    "])"
   ]
  },
  {
   "cell_type": "code",
   "execution_count": 11,
   "id": "f4f83465",
   "metadata": {},
   "outputs": [
    {
     "name": "stdout",
     "output_type": "stream",
     "text": [
      "+--------+--------------------+---------+-----------+----------------+-------------+-------------------+----------+-----------+------------------+------------------+\n",
      "| loan_id|           member_id|loan_amnt|funded_amnt|loan_term_months|interest_rate|monthly_installment|issue_date|loan_status|      loan_purpose|        loan_title|\n",
      "+--------+--------------------+---------+-----------+----------------+-------------+-------------------+----------+-----------+------------------+------------------+\n",
      "|68407277|6d5091b3fcaaeb4ea...|   3600.0|     3600.0|       36 months|        13.99|             123.03|  Dec-2015| Fully Paid|debt_consolidation|Debt consolidation|\n",
      "|68355089|b5e7938b0a2da4cea...|  24700.0|    24700.0|       36 months|        11.99|             820.28|  Dec-2015| Fully Paid|    small_business|          Business|\n",
      "+--------+--------------------+---------+-----------+----------------+-------------+-------------------+----------+-----------+------------------+------------------+\n",
      "only showing top 2 rows\n",
      "\n",
      "root\n",
      " |-- loan_id: string (nullable = true)\n",
      " |-- member_id: string (nullable = true)\n",
      " |-- loan_amnt: float (nullable = true)\n",
      " |-- funded_amnt: float (nullable = true)\n",
      " |-- loan_term_months: string (nullable = true)\n",
      " |-- interest_rate: float (nullable = true)\n",
      " |-- monthly_installment: float (nullable = true)\n",
      " |-- issue_date: string (nullable = true)\n",
      " |-- loan_status: string (nullable = true)\n",
      " |-- loan_purpose: string (nullable = true)\n",
      " |-- loan_title: string (nullable = true)\n",
      "\n"
     ]
    }
   ],
   "source": [
    "#Though we have renamed the columns giving header true will ignore and the schema as a header will be considered\n",
    "loan_df = spark.read.format(\"csv\").option(\"header\",\"true\").schema(loan_schema).load(\"Lending_club_project/raw/loans_data_csv\")\n",
    "loan_df.show(2)\n",
    "loan_df.printSchema()\n"
   ]
  },
  {
   "cell_type": "code",
   "execution_count": 12,
   "id": "2ce099a6",
   "metadata": {},
   "outputs": [],
   "source": [
    "from pyspark.sql.functions import current_timestamp\n",
    "\n",
    "timestamp_df = loan_df.withColumn(\"ingested_time\",current_timestamp())"
   ]
  },
  {
   "cell_type": "code",
   "execution_count": 13,
   "id": "282288e6",
   "metadata": {},
   "outputs": [],
   "source": [
    "timestamp_df.createOrReplaceTempView(\"loantable\")"
   ]
  },
  {
   "cell_type": "code",
   "execution_count": 14,
   "id": "7196eb54",
   "metadata": {},
   "outputs": [
    {
     "name": "stdout",
     "output_type": "stream",
     "text": [
      "+--------+\n",
      "|count(1)|\n",
      "+--------+\n",
      "|       6|\n",
      "+--------+\n",
      "\n"
     ]
    }
   ],
   "source": [
    "spark.sql(\"SELECT count(*) FROM loantable WHERE loan_amnt IS NULL\").show()"
   ]
  },
  {
   "cell_type": "code",
   "execution_count": 15,
   "id": "6860ed69",
   "metadata": {},
   "outputs": [
    {
     "name": "stdout",
     "output_type": "stream",
     "text": [
      "+--------------------+--------------------+---------+-----------+----------------+-------------+-------------------+----------+-----------+------------+----------+--------------------+\n",
      "|             loan_id|           member_id|loan_amnt|funded_amnt|loan_term_months|interest_rate|monthly_installment|issue_date|loan_status|loan_purpose|loan_title|       ingested_time|\n",
      "+--------------------+--------------------+---------+-----------+----------------+-------------+-------------------+----------+-----------+------------+----------+--------------------+\n",
      "|Total amount fund...|e3b0c44298fc1c149...|     null|       null|            null|         null|               null|      null|       null|        null|      null|2025-08-25 23:34:...|\n",
      "|Total amount fund...|e3b0c44298fc1c149...|     null|       null|            null|         null|               null|      null|       null|        null|      null|2025-08-25 23:34:...|\n",
      "|Total amount fund...|e3b0c44298fc1c149...|     null|       null|            null|         null|               null|      null|       null|        null|      null|2025-08-25 23:34:...|\n",
      "|Total amount fund...|e3b0c44298fc1c149...|     null|       null|            null|         null|               null|      null|       null|        null|      null|2025-08-25 23:34:...|\n",
      "|Total amount fund...|e3b0c44298fc1c149...|     null|       null|            null|         null|               null|      null|       null|        null|      null|2025-08-25 23:34:...|\n",
      "|Total amount fund...|e3b0c44298fc1c149...|     null|       null|            null|         null|               null|      null|       null|        null|      null|2025-08-25 23:34:...|\n",
      "+--------------------+--------------------+---------+-----------+----------------+-------------+-------------------+----------+-----------+------------+----------+--------------------+\n",
      "\n"
     ]
    }
   ],
   "source": [
    "spark.sql(\"SELECT * FROM loantable WHERE loan_amnt IS NULL\").show()"
   ]
  },
  {
   "cell_type": "code",
   "execution_count": 16,
   "id": "5ce33a6b",
   "metadata": {},
   "outputs": [
    {
     "data": {
      "text/plain": [
       "<bound method DataFrame.printSchema of DataFrame[loan_id: string, member_id: string, loan_amnt: float, funded_amnt: float, loan_term_months: string, interest_rate: float, monthly_installment: float, issue_date: string, loan_status: string, loan_purpose: string, loan_title: string, ingested_time: timestamp]>"
      ]
     },
     "execution_count": 16,
     "metadata": {},
     "output_type": "execute_result"
    }
   ],
   "source": [
    "timestamp_df.printSchema"
   ]
  },
  {
   "cell_type": "code",
   "execution_count": 26,
   "id": "9fcbde1f",
   "metadata": {},
   "outputs": [],
   "source": [
    "from pyspark.sql.functions import col\n",
    "# droping all the rows if any of the columns has NULL value\n",
    "checklist_columns = [\"loan_amnt\", \"funded_amnt\", \"loan_term_months\", \"interest_rate\", \"monthly_installment\", \"issue_date\", \"loan_status\", \"loan_purpose\", \"loan_title\"]\n",
    "loan_cleaned_df = timestamp_df.na.drop(subset=checklist_columns) #if any value is null this will be dropped\n",
    "\n"
   ]
  },
  {
   "cell_type": "code",
   "execution_count": 29,
   "id": "acac4e25",
   "metadata": {},
   "outputs": [
    {
     "data": {
      "text/plain": [
       "0"
      ]
     },
     "execution_count": 29,
     "metadata": {},
     "output_type": "execute_result"
    }
   ],
   "source": [
    "from pyspark.sql.functions import col\n",
    "from functools import reduce\n",
    "\n",
    "condition = reduce(lambda x, y: x | y, [col(c).isNull() for c in checklist_columns])\n",
    "loan_cleaned_df.select(checklist_columns).filter(condition).count()\n",
    "   # If checklist_columns = [\"loan_amnt\", \"funded_amnt\", \"loan_term_months\"]\n",
    "   # Step 1: [col(\"loan_amnt\").isNull(), col(\"funded_amnt\").isNull(), col(\"loan_term_months\").isNull()]\n",
    "   # Step 2: reduce combines them as:\n",
    "   # (col(\"loan_amnt\").isNull() | col(\"funded_amnt\").isNull()) | col(\"loan_term_months\").isNull()"
   ]
  },
  {
   "cell_type": "code",
   "execution_count": 34,
   "id": "1bb001e2",
   "metadata": {},
   "outputs": [
    {
     "name": "stdout",
     "output_type": "stream",
     "text": [
      "+---------------+\n",
      "|loan_term_years|\n",
      "+---------------+\n",
      "|              3|\n",
      "+---------------+\n",
      "only showing top 1 row\n",
      "\n"
     ]
    },
    {
     "data": {
      "text/plain": [
       "IntegerType()"
      ]
     },
     "execution_count": 34,
     "metadata": {},
     "output_type": "execute_result"
    }
   ],
   "source": [
    "#converting the loan_term_months in to integer and year \n",
    "from pyspark.sql.functions import regexp_replace,col\n",
    "loan_modified = loan_cleaned_df.withColumn(\"loan_term_months\",(regexp_replace(col(\"loan_term_months\"),\" months\",\"\").cast(\"int\")/12).cast(\"int\"))\\\n",
    "    .withColumnRenamed(\"loan_term_months\",\"loan_term_years\")\n",
    "loan_modified.select(\"loan_term_years\").show(1)\n",
    "loan_modified.schema[\"loan_term_years\"].dataType"
   ]
  },
  {
   "cell_type": "code",
   "execution_count": 35,
   "id": "2075746a",
   "metadata": {},
   "outputs": [],
   "source": [
    "loan_modified.createOrReplaceTempView(\"loantable\")"
   ]
  },
  {
   "cell_type": "code",
   "execution_count": null,
   "id": "8814b7da",
   "metadata": {},
   "outputs": [
    {
     "name": "stdout",
     "output_type": "stream",
     "text": [
      "+--------------------+-------+\n",
      "|        loan_purpose|Purpose|\n",
      "+--------------------+-------+\n",
      "|  debt_consolidation| 408422|\n",
      "|         credit_card| 162947|\n",
      "|    home_improvement|  47874|\n",
      "|               other|  42247|\n",
      "|      major_purchase|  15522|\n",
      "|             medical|   8476|\n",
      "|                 car|   7066|\n",
      "|      small_business|   6680|\n",
      "|              moving|   4812|\n",
      "|            vacation|   4728|\n",
      "|               house|   3993|\n",
      "|    renewable_energy|    400|\n",
      "|             wedding|      9|\n",
      "|         educational|      1|\n",
      "|and also pay off ...|      1|\n",
      "+--------------------+-------+\n",
      "\n"
     ]
    }
   ],
   "source": [
    "#checking Loan_purpose column to clean to only have the neccessary column \n",
    "spark.sql(\"SELECT loan_purpose,count(*) AS Purpose FROM loantable group by loan_purpose order by Purpose DESC \").show()\n"
   ]
  },
  {
   "cell_type": "code",
   "execution_count": null,
   "id": "f4f1fb5f",
   "metadata": {},
   "outputs": [
    {
     "name": "stdout",
     "output_type": "stream",
     "text": [
      "+------------------+-------+\n",
      "|      loan_purpose|Purpose|\n",
      "+------------------+-------+\n",
      "|debt_consolidation| 408422|\n",
      "|       credit_card| 162947|\n",
      "|  home_improvement|  47874|\n",
      "|             other|  42248|\n",
      "|    major_purchase|  15522|\n",
      "|           medical|   8476|\n",
      "|               car|   7066|\n",
      "|    small_business|   6680|\n",
      "|            moving|   4812|\n",
      "|          vacation|   4728|\n",
      "|             house|   3993|\n",
      "|  renewable_energy|    400|\n",
      "|           wedding|      9|\n",
      "|       educational|      1|\n",
      "+------------------+-------+\n",
      "\n"
     ]
    }
   ],
   "source": [
    "# working on loan\n",
    "from pyspark.sql.functions import col, when\n",
    "loan_purpose_lookup = [\n",
    "    \"debt_consolidation\",\n",
    "    \"credit_card\", \n",
    "    \"home_improvement\",\n",
    "    \"other\",\n",
    "    \"major_purchase\",\n",
    "    \"medical\",\n",
    "    \"car\",\n",
    "    \"small_business\",\n",
    "    \"moving\",\n",
    "    \"vacation\",\n",
    "    \"house\",\n",
    "    \"renewable_energy\",\n",
    "    \"wedding\",\n",
    "    \"educational\"\n",
    "]\n",
    "# condition for valid loan purposes\n",
    "valid_condition = col(\"loan_purpose\").isin(loan_purpose_lookup)\n",
    "\n",
    "# Apply the logic\n",
    "df_cleaned = loan_modified.withColumn(\"loan_purpose\", \n",
    "                          when(valid_condition, col(\"loan_purpose\"))\n",
    "                          .otherwise(\"other\"))\n",
    "df_cleaned.createOrReplaceTempView(\"loantable\")\n",
    "spark.sql(\"SELECT loan_purpose,count(*) AS Purpose FROM loantable group by loan_purpose order by Purpose DESC \").show()\n"
   ]
  },
  {
   "cell_type": "code",
   "execution_count": 42,
   "id": "35b796b3",
   "metadata": {},
   "outputs": [],
   "source": [
    "df_cleaned.write.format(\"parquet\").mode(\"overwrite\")\\\n",
    ".option(\"path\",\"Lending_club_project/cleaned/loan_data_parquet\").save()"
   ]
  },
  {
   "cell_type": "code",
   "execution_count": 43,
   "id": "aaae9a8e",
   "metadata": {},
   "outputs": [],
   "source": [
    "df_cleaned.repartition(1).write.format(\"csv\").mode(\"overwrite\").option(\"header\",\"True\")\\\n",
    ".option(\"path\",\"Lending_club_project/cleaned/csv/loan_data_csv\").save()"
   ]
  },
  {
   "cell_type": "code",
   "execution_count": null,
   "id": "8c0a8c0c",
   "metadata": {},
   "outputs": [],
   "source": []
  }
 ],
 "metadata": {
  "kernelspec": {
   "display_name": "Python 3 (ipykernel)",
   "language": "python",
   "name": "python3"
  },
  "language_info": {
   "codemirror_mode": {
    "name": "ipython",
    "version": 3
   },
   "file_extension": ".py",
   "mimetype": "text/x-python",
   "name": "python",
   "nbconvert_exporter": "python",
   "pygments_lexer": "ipython3",
   "version": "3.7.17"
  }
 },
 "nbformat": 4,
 "nbformat_minor": 5
}
