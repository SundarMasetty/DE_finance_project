{
 "cells": [
  {
   "cell_type": "code",
   "execution_count": 2,
   "id": "3a2a364e",
   "metadata": {},
   "outputs": [],
   "source": [
    "from pyspark.sql import SparkSession\n",
    "\n",
    "spark = SparkSession \\\n",
    "    .builder \\\n",
    "    .appName(\"LendingClubProject_DC_loan_defaulters\") \\\n",
    "    .master(\"local[*]\") \\\n",
    "    .getOrCreate()"
   ]
  },
  {
   "cell_type": "code",
   "execution_count": 3,
   "id": "6380d2aa",
   "metadata": {},
   "outputs": [],
   "source": [
    "loan_repayment_raw_df = spark.read.format(\"csv\").option(\"header\",\"true\").option(\"inferSchema\",\"true\")\\\n",
    "    .load(\"Lending_club_project/raw/loans_defaulters_data_csv\")"
   ]
  },
  {
   "cell_type": "code",
   "execution_count": 8,
   "id": "5dcbfdd1",
   "metadata": {},
   "outputs": [
    {
     "name": "stdout",
     "output_type": "stream",
     "text": [
      "+--------------------+-----------+-----------+-------+--------------------+--------------+------------------+----------------------+----------------------+\n",
      "|           member_id|delinq_2yrs|delinq_amnt|pub_rec|pub_rec_bankruptcies|inq_last_6mths|total_rec_late_fee|mths_since_last_delinq|mths_since_last_record|\n",
      "+--------------------+-----------+-----------+-------+--------------------+--------------+------------------+----------------------+----------------------+\n",
      "|6d5091b3fcaaeb4ea...|        0.0|        0.0|    0.0|                 0.0|           1.0|               0.0|                  30.0|                  null|\n",
      "|b5e7938b0a2da4cea...|        1.0|        0.0|    0.0|                 0.0|           4.0|               0.0|                   6.0|                  null|\n",
      "|91060b858433e8a61...|        0.0|        0.0|    0.0|                 0.0|           0.0|               0.0|                  null|                  null|\n",
      "|cab1fa9f533688b0a...|        0.0|        0.0|    0.0|                 0.0|           0.0|               0.0|                  null|                  null|\n",
      "|f74e401c1ab0adf78...|        1.0|        0.0|    0.0|                 0.0|           3.0|               0.0|                  12.0|                  null|\n",
      "|8aef4bb29d609d8d6...|        0.0|        0.0|    0.0|                 0.0|           0.0|               0.0|                  null|                  null|\n",
      "|538b4653da3b1e814...|        0.0|        0.0|    0.0|                 0.0|           0.0|               0.0|                  49.0|                  null|\n",
      "|b24d55f21390533c5...|        1.0|        0.0|    0.0|                 0.0|           0.0|               0.0|                   3.0|                  null|\n",
      "|1035c5401b0ca76d0...|        0.0|        0.0|    1.0|                 1.0|           1.0|               0.0|                  null|                 106.0|\n",
      "|cb0f1777593e77909...|        0.0|        0.0|    0.0|                 0.0|           0.0|               0.0|                  75.0|                  null|\n",
      "|a962f4d59caec5fa1...|        0.0|        0.0|    0.0|                 0.0|           0.0|               0.0|                  54.0|                  null|\n",
      "|e7592ab57b3afd9f1...|        0.0|        0.0|    0.0|                 0.0|           0.0|               0.0|                  null|                  null|\n",
      "|603afa9d1be879b7b...|        0.0|        0.0|    0.0|                 0.0|           0.0|               0.0|                  null|                  null|\n",
      "|9fe2d59ddf2a4f37e...|        0.0|        0.0|    1.0|                 1.0|           1.0|               0.0|                  null|                  75.0|\n",
      "|23857480ccf555ce4...|        0.0|        0.0|    0.0|                 0.0|           0.0|               0.0|                  42.0|                  null|\n",
      "|7c69d5f36fdabf6e1...|        0.0|        0.0|    0.0|                 0.0|           0.0|               0.0|                  null|                  null|\n",
      "|08bf9e080503b0113...|        0.0|        0.0|    0.0|                 0.0|           1.0|               0.0|                  null|                  null|\n",
      "|1cafb05aa6c894c30...|        0.0|        0.0|    0.0|                 0.0|           0.0|               0.0|                  null|                  null|\n",
      "|f2c4010f700d8c9c4...|        0.0|        0.0|    0.0|                 0.0|           0.0|               0.0|                  29.0|                  null|\n",
      "|05ad4aed7c393035e...|        0.0|        0.0|    1.0|                 1.0|           4.0|               0.0|                  null|                  30.0|\n",
      "+--------------------+-----------+-----------+-------+--------------------+--------------+------------------+----------------------+----------------------+\n",
      "only showing top 20 rows\n",
      "\n"
     ]
    }
   ],
   "source": [
    "loan_repayment_raw_df.show()"
   ]
  },
  {
   "cell_type": "code",
   "execution_count": 10,
   "id": "a7d8ef98",
   "metadata": {},
   "outputs": [],
   "source": [
    "from pyspark.sql.types import StructType, StructField, StringType, FloatType\n",
    "\n",
    "defaulters_schema = StructType([\n",
    "    StructField(\"member_id\", StringType(), True),\n",
    "    StructField(\"delinq_2yrs\", FloatType(), True),\n",
    "    StructField(\"delinq_amnt\", FloatType(), True),\n",
    "    StructField(\"pub_rec\", FloatType(), True),\n",
    "    StructField(\"pub_rec_bankruptcies\", FloatType(), True),\n",
    "    StructField(\"inq_last_6mths\", FloatType(), True),\n",
    "    StructField(\"total_rec_late_fee\", FloatType(), True),\n",
    "    StructField(\"mths_since_last_delinq\", FloatType(), True),\n",
    "    StructField(\"mths_since_last_record\", FloatType(), True)\n",
    "])"
   ]
  },
  {
   "cell_type": "code",
   "execution_count": 11,
   "id": "71c2955a",
   "metadata": {},
   "outputs": [],
   "source": [
    "loan_repayment_raw_df = spark.read.format(\"csv\").option(\"header\",\"true\").option(\"inferSchema\",\"true\").schema(defaulters_schema)\\\n",
    "    .load(\"Lending_club_project/raw/loans_defaulters_data_csv\")"
   ]
  },
  {
   "cell_type": "code",
   "execution_count": 12,
   "id": "85833091",
   "metadata": {},
   "outputs": [
    {
     "name": "stdout",
     "output_type": "stream",
     "text": [
      "root\n",
      " |-- member_id: string (nullable = true)\n",
      " |-- delinq_2yrs: float (nullable = true)\n",
      " |-- delinq_amnt: float (nullable = true)\n",
      " |-- pub_rec: float (nullable = true)\n",
      " |-- pub_rec_bankruptcies: float (nullable = true)\n",
      " |-- inq_last_6mths: float (nullable = true)\n",
      " |-- total_rec_late_fee: float (nullable = true)\n",
      " |-- mths_since_last_delinq: float (nullable = true)\n",
      " |-- mths_since_last_record: float (nullable = true)\n",
      "\n"
     ]
    }
   ],
   "source": [
    "loan_repayment_raw_df.printSchema()\n"
   ]
  },
  {
   "cell_type": "code",
   "execution_count": 13,
   "id": "85716f5c",
   "metadata": {},
   "outputs": [],
   "source": [
    "from pyspark.sql.functions import col\n",
    "#delinq_2yrs as this the count but we not in the float terms it should be the integer count and nulls with the value 0 (person who is not defaulted)\n",
    "delinq_df = loan_repayment_raw_df.withColumn(\"delinq_2yrs\",col(\"delinq_2yrs\").cast(\"integer\")).fillna(0,subset=[\"delinq_2yrs\"])"
   ]
  },
  {
   "cell_type": "code",
   "execution_count": 14,
   "id": "a6943d79",
   "metadata": {},
   "outputs": [],
   "source": [
    "delinq_df.createOrReplaceTempView(\"delinq_df\")"
   ]
  },
  {
   "cell_type": "code",
   "execution_count": 17,
   "id": "a6c4d7db",
   "metadata": {},
   "outputs": [
    {
     "name": "stdout",
     "output_type": "stream",
     "text": [
      "+--------+\n",
      "|count(1)|\n",
      "+--------+\n",
      "|  141945|\n",
      "+--------+\n",
      "\n"
     ]
    }
   ],
   "source": [
    "spark.sql(\"select count(*) from delinq_df where delinq_2yrs != 0\").show()"
   ]
  },
  {
   "cell_type": "code",
   "execution_count": 18,
   "id": "3e56a2f9",
   "metadata": {},
   "outputs": [],
   "source": [
    "#storing only the data of customers who has delinq records \n",
    "loans_defaulters_df = spark.sql(\"SELECT member_id,delinq_2yrs,int(mths_since_last_delinq)FROM delinq_df WHERE delinq_2yrs > 0 OR mths_since_last_delinq > 0\")"
   ]
  },
  {
   "cell_type": "code",
   "execution_count": 27,
   "id": "c88d5de1",
   "metadata": {},
   "outputs": [
    {
     "name": "stdout",
     "output_type": "stream",
     "text": [
      "+---------+-----------+----------------------+\n",
      "|member_id|delinq_2yrs|mths_since_last_delinq|\n",
      "+---------+-----------+----------------------+\n",
      "+---------+-----------+----------------------+\n",
      "\n"
     ]
    }
   ],
   "source": [
    "# loans_defaulters_df.select(\"*\").distinct().show()\n",
    "loans_defaulters_df.select(\"*\").filter('mths_since_last_delinq=0 AND delinq_2yrs = 0').show()"
   ]
  },
  {
   "cell_type": "code",
   "execution_count": null,
   "id": "3b8658c7",
   "metadata": {},
   "outputs": [],
   "source": [
    "# loans_defaulters_df has members id and months data where they are defaulted\n",
    "mem_id_loans_defaulters_df = spark.sql(\"SELECT member_id FROM delinq_df WHERE delinq_2yrs > 0 OR mths_since_last_delinq > 0\")"
   ]
  },
  {
   "cell_type": "code",
   "execution_count": 29,
   "id": "1eb5431e",
   "metadata": {},
   "outputs": [],
   "source": [
    "loans_defaulters_df.write.format(\"parquet\").mode(\"overwrite\")\\\n",
    ".option(\"path\",\"Lending_club_project/cleaned/loans_defaulters_delinq_parquet\").save()"
   ]
  },
  {
   "cell_type": "code",
   "execution_count": 30,
   "id": "de1f7d0b",
   "metadata": {},
   "outputs": [],
   "source": [
    "loans_defaulters_df.repartition(1).write.format(\"csv\").mode(\"overwrite\").option(\"header\",\"True\")\\\n",
    ".option(\"path\",\"Lending_club_project/cleaned/csv/loans_defaulters_delinq_csv\").save()"
   ]
  },
  {
   "cell_type": "code",
   "execution_count": 31,
   "id": "498150e6",
   "metadata": {},
   "outputs": [],
   "source": [
    "mem_id_loans_defaulters_df.write.format(\"parquet\").mode(\"overwrite\")\\\n",
    ".option(\"path\",\"Lending_club_project/cleaned/loans_defaulters_delinq_records_parquet\").save()"
   ]
  },
  {
   "cell_type": "code",
   "execution_count": 32,
   "id": "3e9041a3",
   "metadata": {},
   "outputs": [],
   "source": [
    "mem_id_loans_defaulters_df.repartition(1).write.format(\"csv\").mode(\"overwrite\").option(\"header\",\"True\")\\\n",
    ".option(\"path\",\"Lending_club_project/cleaned/csv/lloans_defaulters_delinq_records_csv\").save()"
   ]
  },
  {
   "cell_type": "code",
   "execution_count": null,
   "id": "124f9804",
   "metadata": {},
   "outputs": [],
   "source": [
    " # 127.0.0.1:8888/lab?token=5785be11c174dc4942716e9f1de21b2ddc7e6a9dfb32138d"
   ]
  },
  {
   "cell_type": "code",
   "execution_count": null,
   "id": "aeb2863b",
   "metadata": {},
   "outputs": [],
   "source": [
    "http://127.0.0.1:8888/"
   ]
  }
 ],
 "metadata": {
  "kernelspec": {
   "display_name": "Python 3 (ipykernel)",
   "language": "python",
   "name": "python3"
  }
 },
 "nbformat": 4,
 "nbformat_minor": 5
}
