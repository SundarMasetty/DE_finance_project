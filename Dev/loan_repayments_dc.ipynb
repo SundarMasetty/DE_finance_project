{
 "cells": [
  {
   "cell_type": "code",
   "execution_count": 1,
   "id": "d15c9dd3",
   "metadata": {},
   "outputs": [],
   "source": [
    "from pyspark.sql import SparkSession\n",
    "\n",
    "spark = SparkSession \\\n",
    "    .builder \\\n",
    "    .appName(\"LendingClubProject_DC_loan_repayments\") \\\n",
    "    .master(\"local[*]\") \\\n",
    "    .getOrCreate()"
   ]
  },
  {
   "cell_type": "code",
   "execution_count": 2,
   "id": "8b0febfa",
   "metadata": {},
   "outputs": [],
   "source": [
    "loan_repayment_raw_df = spark.read.format(\"csv\").option(\"header\",\"true\").option(\"inferSchema\",\"true\")\\\n",
    "    .load(\"Lending_club_project/raw/loans_repayments_data_csv\")"
   ]
  },
  {
   "cell_type": "code",
   "execution_count": null,
   "id": "47dbed4c",
   "metadata": {},
   "outputs": [
    {
     "name": "stdout",
     "output_type": "stream",
     "text": [
      "root\n",
      " |-- loan_id: string (nullable = true)\n",
      " |-- total_rec_prncp: double (nullable = true)\n",
      " |-- total_rec_int: double (nullable = true)\n",
      " |-- total_rec_late_fee: double (nullable = true)\n",
      " |-- total_pymnt: string (nullable = true)\n",
      " |-- last_pymnt_amnt: string (nullable = true)\n",
      " |-- last_pymnt_d: string (nullable = true)\n",
      " |-- next_pymnt_d: string (nullable = true)\n",
      "\n"
     ]
    }
   ],
   "source": [
    "loan_repayment_raw_df.printSchema() #correctly inffred but i would like to make them float"
   ]
  },
  {
   "cell_type": "code",
   "execution_count": 4,
   "id": "9f73bda6",
   "metadata": {},
   "outputs": [],
   "source": [
    "from pyspark.sql.types import StructType, StructField, StringType, FloatType\n",
    "\n",
    "loans_repayment_schema = StructType([\n",
    "    StructField(\"loan_id\", StringType(), True),\n",
    "    StructField(\"total_principal_received\", FloatType(), True),\n",
    "    StructField(\"total_interest_received\", FloatType(), True),\n",
    "    StructField(\"total_late_fee_received\", FloatType(), True),\n",
    "    StructField(\"total_payment_received\", FloatType(), True),\n",
    "    StructField(\"last_payment_amount\", FloatType(), True),\n",
    "    StructField(\"last_payment_date\", StringType(), True),\n",
    "    StructField(\"next_payment_date\", StringType(), True)\n",
    "])"
   ]
  },
  {
   "cell_type": "code",
   "execution_count": 7,
   "id": "f9550129",
   "metadata": {},
   "outputs": [
    {
     "name": "stdout",
     "output_type": "stream",
     "text": [
      "root\n",
      " |-- loan_id: string (nullable = true)\n",
      " |-- total_principal_received: float (nullable = true)\n",
      " |-- total_interest_received: float (nullable = true)\n",
      " |-- total_late_fee_received: float (nullable = true)\n",
      " |-- total_payment_received: float (nullable = true)\n",
      " |-- last_payment_amount: float (nullable = true)\n",
      " |-- last_payment_date: string (nullable = true)\n",
      " |-- next_payment_date: string (nullable = true)\n",
      "\n"
     ]
    }
   ],
   "source": [
    "loan_repayment_raw_df = spark.read.format(\"csv\").option(\"header\",\"true\").option(\"inferSchema\",\"true\")\\\n",
    "    .schema(loans_repayment_schema).load(\"Lending_club_project/raw/loans_repayments_data_csv\")\n",
    "loan_repayment_raw_df.printSchema()"
   ]
  },
  {
   "cell_type": "code",
   "execution_count": 8,
   "id": "59ca171a",
   "metadata": {},
   "outputs": [],
   "source": [
    "from pyspark.sql.functions import current_timestamp\n",
    "timestamp_df = loan_repayment_raw_df.withColumn(\"ingest_date\",current_timestamp())\n"
   ]
  },
  {
   "cell_type": "code",
   "execution_count": 9,
   "id": "832fb2aa",
   "metadata": {},
   "outputs": [],
   "source": [
    "timestamp_df.createTempView(\"loanrepayments\")"
   ]
  },
  {
   "cell_type": "code",
   "execution_count": null,
   "id": "e7e1f17b",
   "metadata": {},
   "outputs": [
    {
     "name": "stdout",
     "output_type": "stream",
     "text": [
      "+--------+\n",
      "|count(1)|\n",
      "+--------+\n",
      "|       7|\n",
      "+--------+\n",
      "\n"
     ]
    }
   ],
   "source": [
    "spark.sql(\"SELECT COUNT(*) FROM loanrepayments WHERE total_payment_received IS NULL\").show() # this column shouldn't be null quality check"
   ]
  },
  {
   "cell_type": "code",
   "execution_count": 13,
   "id": "f2d49b80",
   "metadata": {},
   "outputs": [
    {
     "name": "stdout",
     "output_type": "stream",
     "text": [
      "+--------------------+------------------------+-----------------------+-----------------------+----------------------+-------------------+-----------------+-----------------+--------------------+\n",
      "|             loan_id|total_principal_received|total_interest_received|total_late_fee_received|total_payment_received|last_payment_amount|last_payment_date|next_payment_date|         ingest_date|\n",
      "+--------------------+------------------------+-----------------------+-----------------------+----------------------+-------------------+-----------------+-----------------+--------------------+\n",
      "|Total amount fund...|                    null|                   null|                   null|                  null|               null|             null|             null|2025-08-26 01:30:...|\n",
      "|Total amount fund...|                    null|                   null|                   null|                  null|               null|             null|             null|2025-08-26 01:30:...|\n",
      "|Total amount fund...|                    null|                   null|                   null|                  null|               null|             null|             null|2025-08-26 01:30:...|\n",
      "|Total amount fund...|                    null|                   null|                   null|                  null|               null|             null|             null|2025-08-26 01:30:...|\n",
      "|Total amount fund...|                    null|                   null|                   null|                  null|               null|             null|             null|2025-08-26 01:30:...|\n",
      "|Total amount fund...|                    null|                   null|                   null|                  null|               null|             null|             null|2025-08-26 01:30:...|\n",
      "|               65104|                     0.0|                7123.75|                7123.75|                  null|             507.72|              0.0|          91.3896|2025-08-26 01:30:...|\n",
      "+--------------------+------------------------+-----------------------+-----------------------+----------------------+-------------------+-----------------+-----------------+--------------------+\n",
      "\n"
     ]
    }
   ],
   "source": [
    "spark.sql(\"SELECT * FROM loanrepayments WHERE total_payment_received IS NULL\").show()"
   ]
  },
  {
   "cell_type": "code",
   "execution_count": 26,
   "id": "597d0dee",
   "metadata": {},
   "outputs": [],
   "source": [
    "columns_check = [\"total_principal_received\",\"total_interest_received\",\"total_late_fee_received\",\"total_payment_received\",\"last_payment_amount\"]"
   ]
  },
  {
   "cell_type": "code",
   "execution_count": 28,
   "id": "392bd12a",
   "metadata": {},
   "outputs": [
    {
     "name": "stdout",
     "output_type": "stream",
     "text": [
      "+-------+------------------------+-----------------------+-----------------------+----------------------+-------------------+-----------------+-----------------+-----------+\n",
      "|loan_id|total_principal_received|total_interest_received|total_late_fee_received|total_payment_received|last_payment_amount|last_payment_date|next_payment_date|ingest_date|\n",
      "+-------+------------------------+-----------------------+-----------------------+----------------------+-------------------+-----------------+-----------------+-----------+\n",
      "+-------+------------------------+-----------------------+-----------------------+----------------------+-------------------+-----------------+-----------------+-----------+\n",
      "\n"
     ]
    }
   ],
   "source": [
    "filtered_df = timestamp_df.na.drop(subset=columns_check)\n",
    "filtered_df.createOrReplaceTempView(\"loanrepayments\")\n",
    "spark.sql(\"SELECT * FROM loanrepayments WHERE total_payment_received IS NULL\").show()"
   ]
  },
  {
   "cell_type": "code",
   "execution_count": 46,
   "id": "ee2a1ad2",
   "metadata": {},
   "outputs": [
    {
     "name": "stdout",
     "output_type": "stream",
     "text": [
      "+--------+\n",
      "|count(1)|\n",
      "+--------+\n",
      "|       0|\n",
      "+--------+\n",
      "\n"
     ]
    }
   ],
   "source": [
    "spark.sql(\"SELECT count(*) FROM loanrepayments WHERE total_payment_received = 0.0 AND  total_principal_received !=0.0\").show()"
   ]
  },
  {
   "cell_type": "code",
   "execution_count": null,
   "id": "24afa1dd",
   "metadata": {},
   "outputs": [],
   "source": [
    "#Not needed but can use when there are issues with these columns calculation\n",
    "from pyspark.sql.functions import when, col\n",
    "\n",
    "total_payment_fixed_df = filtered_df.withColumn(\"total_payment_received\", \n",
    "    when((col(\"total_principal_received\") != 0.0) & \n",
    "         (col(\"total_payment_received\") == 0.0),\n",
    "         col(\"total_principal_received\") + col(\"total_interest_received\") + col(\"total_late_fee_received\")\n",
    "    ).otherwise(col(\"total_payment_received\"))\n",
    ")"
   ]
  },
  {
   "cell_type": "code",
   "execution_count": 52,
   "id": "297fd3ea",
   "metadata": {},
   "outputs": [
    {
     "data": {
      "text/plain": [
       "224"
      ]
     },
     "execution_count": 52,
     "metadata": {},
     "output_type": "execute_result"
    }
   ],
   "source": [
    "total_payment_fixed_df.filter(\"total_payment_received=0.0\").count()"
   ]
  },
  {
   "cell_type": "code",
   "execution_count": 53,
   "id": "ca237837",
   "metadata": {},
   "outputs": [],
   "source": [
    "total_payment_fixed_df1 = total_payment_fixed_df.filter(\"total_payment_received!=0.0\")"
   ]
  },
  {
   "cell_type": "code",
   "execution_count": 57,
   "id": "55e95c08",
   "metadata": {},
   "outputs": [
    {
     "name": "stdout",
     "output_type": "stream",
     "text": [
      "+--------+------------------------+-----------------------+-----------------------+----------------------+-------------------+-----------------+-----------------+--------------------+\n",
      "| loan_id|total_principal_received|total_interest_received|total_late_fee_received|total_payment_received|last_payment_amount|last_payment_date|next_payment_date|         ingest_date|\n",
      "+--------+------------------------+-----------------------+-----------------------+----------------------+-------------------+-----------------+-----------------+--------------------+\n",
      "|67255203|                     0.0|                    0.0|                    0.0|               1229.56|                0.0|             null|             null|2025-08-26 11:37:...|\n",
      "|68132560|                     0.0|                    0.0|                    0.0|               4459.86|                0.0|             null|             null|2025-08-26 11:37:...|\n",
      "|67869980|                     0.0|                    0.0|                    0.0|               1938.76|                0.0|             null|             null|2025-08-26 11:37:...|\n",
      "|67809429|                     0.0|                    0.0|                    0.0|               1096.77|                0.0|             null|             null|2025-08-26 11:37:...|\n",
      "|67848376|                     0.0|                    0.0|                    0.0|               3396.63|                0.0|             null|             null|2025-08-26 11:37:...|\n",
      "|67615364|                     0.0|                    0.0|                    0.0|               1961.38|                0.0|             null|             null|2025-08-26 11:37:...|\n",
      "|67448903|                     0.0|                    0.0|                    0.0|                738.56|                0.0|             null|             null|2025-08-26 11:37:...|\n",
      "|67298441|                     0.0|                    0.0|                    0.0|                183.74|                0.0|             null|             null|2025-08-26 11:37:...|\n",
      "|67337781|                     0.0|                    0.0|                    0.0|               1300.65|                0.0|             null|             null|2025-08-26 11:37:...|\n",
      "|67446038|                     0.0|                    0.0|                    0.0|               4199.66|                0.0|             null|             null|2025-08-26 11:37:...|\n",
      "|67305840|                     0.0|                    0.0|                    0.0|                181.63|                0.0|             null|             null|2025-08-26 11:37:...|\n",
      "|67135199|                     0.0|                    0.0|                    0.0|               2403.38|                0.0|             null|             null|2025-08-26 11:37:...|\n",
      "|66606172|                     0.0|                    0.0|                    0.0|               1751.17|                0.0|             null|             null|2025-08-26 11:37:...|\n",
      "|66464554|                     0.0|                    0.0|                    0.0|               5382.84|                0.0|             null|             null|2025-08-26 11:37:...|\n",
      "|66513956|                     0.0|                    0.0|                    0.0|               2651.64|                0.0|             null|             null|2025-08-26 11:37:...|\n",
      "|66513960|                     0.0|                    0.0|                    0.0|                748.63|                0.0|             null|             null|2025-08-26 11:37:...|\n",
      "|66473401|                     0.0|                    0.0|                    0.0|               2426.79|                0.0|             null|             null|2025-08-26 11:37:...|\n",
      "|66491455|                     0.0|                    0.0|                    0.0|                8180.0|                0.0|             null|             null|2025-08-26 11:37:...|\n",
      "|65643818|                     0.0|                    0.0|                    0.0|               3694.99|                0.0|             null|             null|2025-08-26 11:37:...|\n",
      "|65763319|                     0.0|                    0.0|                    0.0|                 530.1|                0.0|             null|             null|2025-08-26 11:37:...|\n",
      "+--------+------------------------+-----------------------+-----------------------+----------------------+-------------------+-----------------+-----------------+--------------------+\n",
      "only showing top 20 rows\n",
      "\n"
     ]
    }
   ],
   "source": [
    "#last_payment_date should not be 0 or null it should be some date\n",
    "total_payment_fixed_df1.filter(\"last_payment_date IS NULL\").show()"
   ]
  },
  {
   "cell_type": "code",
   "execution_count": 58,
   "id": "70a61218",
   "metadata": {},
   "outputs": [],
   "source": [
    "#last_payment_date \n",
    "from pyspark.sql.functions import when, col\n",
    "\n",
    "payment_date_fixed_df = filtered_df.withColumn(\"last_payment_date\", \n",
    "    when((col(\"last_payment_date\") != 0.0), None\n",
    "    ).otherwise(col(\"last_payment_date\"))\n",
    ")"
   ]
  },
  {
   "cell_type": "code",
   "execution_count": 59,
   "id": "68a409da",
   "metadata": {},
   "outputs": [],
   "source": [
    "from pyspark.sql.functions import when, col\n",
    "\n",
    "next_payment_date_fixed = payment_date_fixed_df.withColumn(\"next_payment_date\", \n",
    "    when((col(\"next_payment_date\") != 0.0), None\n",
    "    ).otherwise(col(\"next_payment_date\"))\n",
    ")"
   ]
  },
  {
   "cell_type": "code",
   "execution_count": 61,
   "id": "37a5680a",
   "metadata": {},
   "outputs": [
    {
     "name": "stdout",
     "output_type": "stream",
     "text": [
      "+-------+------------------------+-----------------------+-----------------------+----------------------+-------------------+-----------------+-----------------+-----------+\n",
      "|loan_id|total_principal_received|total_interest_received|total_late_fee_received|total_payment_received|last_payment_amount|last_payment_date|next_payment_date|ingest_date|\n",
      "+-------+------------------------+-----------------------+-----------------------+----------------------+-------------------+-----------------+-----------------+-----------+\n",
      "+-------+------------------------+-----------------------+-----------------------+----------------------+-------------------+-----------------+-----------------+-----------+\n",
      "\n"
     ]
    }
   ],
   "source": [
    "next_payment_date_fixed.filter(\"next_payment_date = 0.0\").show()"
   ]
  },
  {
   "cell_type": "code",
   "execution_count": 62,
   "id": "db5de15e",
   "metadata": {},
   "outputs": [],
   "source": [
    "next_payment_date_fixed.write.format(\"parquet\").mode(\"overwrite\")\\\n",
    ".option(\"path\",\"Lending_club_project/cleaned/loan_repayments_parquet\").save()"
   ]
  },
  {
   "cell_type": "code",
   "execution_count": 63,
   "id": "08af83dd",
   "metadata": {},
   "outputs": [],
   "source": [
    "next_payment_date_fixed.repartition(1).write.format(\"csv\").mode(\"overwrite\").option(\"header\",\"True\")\\\n",
    ".option(\"path\",\"Lending_club_project/cleaned/csv/loan_repayments_csv\").save()"
   ]
  },
  {
   "cell_type": "code",
   "execution_count": null,
   "id": "e3b4fc7f",
   "metadata": {},
   "outputs": [],
   "source": []
  }
 ],
 "metadata": {
  "kernelspec": {
   "display_name": "Python 3 (ipykernel)",
   "language": "python",
   "name": "python3"
  },
  "language_info": {
   "codemirror_mode": {
    "name": "ipython",
    "version": 3
   },
   "file_extension": ".py",
   "mimetype": "text/x-python",
   "name": "python",
   "nbconvert_exporter": "python",
   "pygments_lexer": "ipython3",
   "version": "3.7.17"
  }
 },
 "nbformat": 4,
 "nbformat_minor": 5
}
